{
 "cells": [
  {
   "cell_type": "markdown",
   "metadata": {},
   "source": [
    "### Steps\n",
    "1. Write a function to retrieve all the postal codes in Singapore, preferably from a REST API.\n",
    "\n",
    "2. Based on each postal code, call a REST API to fetch the lat and lng for each postal code\n",
    "\n",
    "3. Put the results of (1) and (2) into a dataframe with the following columns:\n",
    "<br>\n",
    "PostaL_Code   |   Lat   |   Lng\n",
    "\n",
    "\n",
    "4. Ask the user to input a reference postal code. For each row in the dataframe, calculate the distance of each postal code from the reference point. Add the result into the dataframe. The dataframe now looks like this:\n",
    "\n",
    "<br>\n",
    "PostaL_Code | Lat | Lng |Distance_from_ref_point\n",
    "\n",
    "\n"
   ]
  },
  {
   "cell_type": "code",
   "execution_count": 2,
   "metadata": {},
   "outputs": [],
   "source": [
    "import pandas as pd\n",
    "import json\n",
    "import requests\n",
    "import http.client, urllib.parse\n",
    "from math import radians, cos, sin, asin, sqrt\n"
   ]
  },
  {
   "cell_type": "code",
   "execution_count": 27,
   "metadata": {},
   "outputs": [
    {
     "data": {
      "text/html": [
       "<div>\n",
       "<style scoped>\n",
       "    .dataframe tbody tr th:only-of-type {\n",
       "        vertical-align: middle;\n",
       "    }\n",
       "\n",
       "    .dataframe tbody tr th {\n",
       "        vertical-align: top;\n",
       "    }\n",
       "\n",
       "    .dataframe thead th {\n",
       "        text-align: right;\n",
       "    }\n",
       "</style>\n",
       "<table border=\"1\" class=\"dataframe\">\n",
       "  <thead>\n",
       "    <tr style=\"text-align: right;\">\n",
       "      <th></th>\n",
       "      <th>Postal Code</th>\n",
       "      <th>Address</th>\n",
       "      <th>Latitude</th>\n",
       "      <th>Longtitude</th>\n",
       "    </tr>\n",
       "  </thead>\n",
       "  <tbody>\n",
       "    <tr>\n",
       "      <th>0</th>\n",
       "      <td>18906</td>\n",
       "      <td>Straits Boulevard</td>\n",
       "      <td>1.2758</td>\n",
       "      <td>103.8496</td>\n",
       "    </tr>\n",
       "    <tr>\n",
       "      <th>1</th>\n",
       "      <td>18907</td>\n",
       "      <td>Straits Boulevard</td>\n",
       "      <td>1.2749</td>\n",
       "      <td>103.8517</td>\n",
       "    </tr>\n",
       "    <tr>\n",
       "      <th>2</th>\n",
       "      <td>18910</td>\n",
       "      <td>Marina Gardens Drive</td>\n",
       "      <td>1.2796</td>\n",
       "      <td>103.8690</td>\n",
       "    </tr>\n",
       "    <tr>\n",
       "      <th>3</th>\n",
       "      <td>18915</td>\n",
       "      <td>Central Boulevard</td>\n",
       "      <td>1.2737</td>\n",
       "      <td>103.8601</td>\n",
       "    </tr>\n",
       "    <tr>\n",
       "      <th>4</th>\n",
       "      <td>18916</td>\n",
       "      <td>Central Boulevard</td>\n",
       "      <td>1.2798</td>\n",
       "      <td>103.8515</td>\n",
       "    </tr>\n",
       "    <tr>\n",
       "      <th>...</th>\n",
       "      <td>...</td>\n",
       "      <td>...</td>\n",
       "      <td>...</td>\n",
       "      <td>...</td>\n",
       "    </tr>\n",
       "    <tr>\n",
       "      <th>121149</th>\n",
       "      <td>886129</td>\n",
       "      <td>Upper Changi Road North</td>\n",
       "      <td>1.3523</td>\n",
       "      <td>103.9665</td>\n",
       "    </tr>\n",
       "    <tr>\n",
       "      <th>121150</th>\n",
       "      <td>887327</td>\n",
       "      <td>Kranji Loop</td>\n",
       "      <td>1.4336</td>\n",
       "      <td>103.7586</td>\n",
       "    </tr>\n",
       "    <tr>\n",
       "      <th>121151</th>\n",
       "      <td>887328</td>\n",
       "      <td>Pasir Panjang Road</td>\n",
       "      <td>1.2772</td>\n",
       "      <td>103.7958</td>\n",
       "    </tr>\n",
       "    <tr>\n",
       "      <th>121152</th>\n",
       "      <td>918104</td>\n",
       "      <td>Airport Cargo Road</td>\n",
       "      <td>1.3753</td>\n",
       "      <td>103.9967</td>\n",
       "    </tr>\n",
       "    <tr>\n",
       "      <th>121153</th>\n",
       "      <td>918146</td>\n",
       "      <td>Airport Boulevard</td>\n",
       "      <td>1.3550</td>\n",
       "      <td>103.9891</td>\n",
       "    </tr>\n",
       "  </tbody>\n",
       "</table>\n",
       "<p>121154 rows × 4 columns</p>\n",
       "</div>"
      ],
      "text/plain": [
       "        Postal Code                  Address  Latitude  Longtitude\n",
       "0             18906        Straits Boulevard    1.2758    103.8496\n",
       "1             18907        Straits Boulevard    1.2749    103.8517\n",
       "2             18910     Marina Gardens Drive    1.2796    103.8690\n",
       "3             18915        Central Boulevard    1.2737    103.8601\n",
       "4             18916        Central Boulevard    1.2798    103.8515\n",
       "...             ...                      ...       ...         ...\n",
       "121149       886129  Upper Changi Road North    1.3523    103.9665\n",
       "121150       887327              Kranji Loop    1.4336    103.7586\n",
       "121151       887328       Pasir Panjang Road    1.2772    103.7958\n",
       "121152       918104       Airport Cargo Road    1.3753    103.9967\n",
       "121153       918146        Airport Boulevard    1.3550    103.9891\n",
       "\n",
       "[121154 rows x 4 columns]"
      ]
     },
     "execution_count": 27,
     "metadata": {},
     "output_type": "execute_result"
    }
   ],
   "source": [
    "def load_all_postal_codes:\n",
    "    data=pd.read_csv('SG.txt',sep=\"\\t\",header=None)\n",
    "    data=data.dropna(axis=1).drop(columns=0)\n",
    "    data.columns=['Postal Code','Address','Latitude','Longtitude']\n",
    "    return data"
   ]
  },
  {
   "cell_type": "code",
   "execution_count": 160,
   "metadata": {},
   "outputs": [],
   "source": [
    "conn = http.client.HTTPConnection('geocode.xyz')\n",
    "\n",
    "params = urllib.parse.urlencode({\n",
    "    'auth': '191249184319614221290x60675',\n",
    "    'locate': location,\n",
    "    'region': 'SG',\n",
    "    'json': 1,\n",
    "    })\n",
    "\n",
    "conn.request('GET', '/?{}'.format(params))\n",
    "\n",
    "res = conn.getresponse()\n",
    "read = res.read()\n",
    "\n",
    "response_dict = json.loads(read)"
   ]
  },
  {
   "cell_type": "code",
   "execution_count": 72,
   "metadata": {},
   "outputs": [],
   "source": [
    "## code\n",
    "\n",
    "#load postal codes downloaded from GeoNames Postal Code into memory\n",
    "#weblink:http://download.geonames.org/export/zip/\n",
    "def load_all_postal_codes():\n",
    "    '''load postal codes downloaded from GeoNames Postal Code into memory\n",
    "    Link:http://download.geonames.org/export/zip/\n",
    "    '''\n",
    "    data=pd.read_csv('SG.txt',sep=\"\\t\",header=None)\n",
    "    data=data.dropna(axis=1).drop(columns=0)\n",
    "    data.columns=['Postal Code','Address','Latitude','Longtitude']\n",
    "    \n",
    "    return data\n",
    "\n",
    "def find_lat_long(code):\n",
    "    \n",
    "    conn = http.client.HTTPConnection('geocode.xyz')\n",
    "\n",
    "    params = urllib.parse.urlencode({\n",
    "    'auth': '191249184319614221290x60675',\n",
    "    'locate': code,\n",
    "    'region': 'SG',\n",
    "    'json': 1,\n",
    "    })\n",
    "\n",
    "    conn.request('GET', '/?{}'.format(params))\n",
    "\n",
    "    res = conn.getresponse()\n",
    "    read = res.read()\n",
    "\n",
    "    response_dict = json.loads(read)\n",
    "    \n",
    "    return code,response_dict['latt'],response_dict['longt']\n",
    "\n",
    "def prompt_user():\n",
    "    while True:\n",
    "        ref=input(' Please key in your desired reference postal code ')\n",
    "        if len(ref)==6 and ref.isnumeric():\n",
    "            break\n",
    "\n",
    "            \n",
    "    return ref\n",
    "\n",
    "#link:https://stackoverflow.com/questions/4913349/haversine-formula-in-python-bearing-and-distance-between-two-gps-points \n",
    "def haversine(lon1, lat1, lon2, lat2):\n",
    "    \"\"\"\n",
    "    Calculate the great circle distance in kilometers between two points \n",
    "    on the earth (specified in decimal degrees)\n",
    "    \"\"\"\n",
    "    # convert decimal degrees to radians \n",
    "    lon1, lat1, lon2, lat2 = map(radians, [lon1, lat1, lon2, lat2])\n",
    "\n",
    "    # haversine formula \n",
    "    dlon = lon2 - lon1 \n",
    "    dlat = lat2 - lat1 \n",
    "    a = sin(dlat/2)**2 + cos(lat1) * cos(lat2) * sin(dlon/2)**2\n",
    "    c = 2 * asin(sqrt(a)) \n",
    "    r = 6371 # Radius of earth in kilometers. Use 3956 for miles. Determines return value units.\n",
    "    return c * r"
   ]
  },
  {
   "cell_type": "code",
   "execution_count": 77,
   "metadata": {},
   "outputs": [
    {
     "name": "stdout",
     "output_type": "stream",
     "text": [
      " Please key in your desired reference postal code 530440\n",
      "        Postal Code                  Address  Latitude  Longtitude  distance\n",
      "0             18906        Straits Boulevard    1.2758    103.8496     12.48\n",
      "1             18907        Straits Boulevard    1.2749    103.8517     12.49\n",
      "2             18910     Marina Gardens Drive    1.2796    103.8690     11.40\n",
      "3             18915        Central Boulevard    1.2737    103.8601     12.30\n",
      "4             18916        Central Boulevard    1.2798    103.8515     11.99\n",
      "...             ...                      ...       ...         ...       ...\n",
      "121149       886129  Upper Changi Road North    1.3523    103.9665      8.64\n",
      "121150       887327              Kranji Loop    1.4336    103.7586     16.18\n",
      "121151       887328       Pasir Panjang Road    1.2772    103.7958     15.70\n",
      "121152       918104       Airport Cargo Road    1.3753    103.9967     11.48\n",
      "121153       918146        Airport Boulevard    1.3550    103.9891     10.96\n",
      "\n",
      "[121154 rows x 5 columns]\n"
     ]
    }
   ],
   "source": [
    "df=load_all_postal_codes()\n",
    "\n",
    "reference=prompt_user()\n",
    "\n",
    "postal_code,lat,long=find_lat_long(reference)\n",
    "\n",
    "df['distance'] = df.apply(lambda x: round(haversine(x['Longtitude'],x['Latitude'],float(long),float(lat)),2), axis=1)\n",
    "print(df)"
   ]
  },
  {
   "cell_type": "code",
   "execution_count": 75,
   "metadata": {},
   "outputs": [
    {
     "data": {
      "text/plain": [
       "('1.35488', '103.88967', '530110')"
      ]
     },
     "execution_count": 75,
     "metadata": {},
     "output_type": "execute_result"
    }
   ],
   "source": [
    "lat,long,postal_code"
   ]
  },
  {
   "cell_type": "code",
   "execution_count": 76,
   "metadata": {},
   "outputs": [
    {
     "data": {
      "text/html": [
       "<div>\n",
       "<style scoped>\n",
       "    .dataframe tbody tr th:only-of-type {\n",
       "        vertical-align: middle;\n",
       "    }\n",
       "\n",
       "    .dataframe tbody tr th {\n",
       "        vertical-align: top;\n",
       "    }\n",
       "\n",
       "    .dataframe thead th {\n",
       "        text-align: right;\n",
       "    }\n",
       "</style>\n",
       "<table border=\"1\" class=\"dataframe\">\n",
       "  <thead>\n",
       "    <tr style=\"text-align: right;\">\n",
       "      <th></th>\n",
       "      <th>Postal Code</th>\n",
       "      <th>Address</th>\n",
       "      <th>Latitude</th>\n",
       "      <th>Longtitude</th>\n",
       "      <th>distance</th>\n",
       "    </tr>\n",
       "  </thead>\n",
       "  <tbody>\n",
       "    <tr>\n",
       "      <th>65649</th>\n",
       "      <td>530440</td>\n",
       "      <td>Hougang Avenue 8</td>\n",
       "      <td>1.3791</td>\n",
       "      <td>103.8935</td>\n",
       "      <td>2.73</td>\n",
       "    </tr>\n",
       "  </tbody>\n",
       "</table>\n",
       "</div>"
      ],
      "text/plain": [
       "       Postal Code           Address  Latitude  Longtitude  distance\n",
       "65649       530440  Hougang Avenue 8    1.3791    103.8935      2.73"
      ]
     },
     "execution_count": 76,
     "metadata": {},
     "output_type": "execute_result"
    }
   ],
   "source": [
    "df[df['Postal Code']==530440]"
   ]
  },
  {
   "cell_type": "code",
   "execution_count": 54,
   "metadata": {},
   "outputs": [
    {
     "data": {
      "text/html": [
       "<div>\n",
       "<style scoped>\n",
       "    .dataframe tbody tr th:only-of-type {\n",
       "        vertical-align: middle;\n",
       "    }\n",
       "\n",
       "    .dataframe tbody tr th {\n",
       "        vertical-align: top;\n",
       "    }\n",
       "\n",
       "    .dataframe thead th {\n",
       "        text-align: right;\n",
       "    }\n",
       "</style>\n",
       "<table border=\"1\" class=\"dataframe\">\n",
       "  <thead>\n",
       "    <tr style=\"text-align: right;\">\n",
       "      <th></th>\n",
       "      <th>Postal Code</th>\n",
       "      <th>Address</th>\n",
       "      <th>Latitude</th>\n",
       "      <th>Longtitude</th>\n",
       "      <th>distance</th>\n",
       "    </tr>\n",
       "  </thead>\n",
       "  <tbody>\n",
       "    <tr>\n",
       "      <th>0</th>\n",
       "      <td>18906</td>\n",
       "      <td>Straits Boulevard</td>\n",
       "      <td>1.2758</td>\n",
       "      <td>103.8496</td>\n",
       "      <td>0.0</td>\n",
       "    </tr>\n",
       "    <tr>\n",
       "      <th>1</th>\n",
       "      <td>18907</td>\n",
       "      <td>Straits Boulevard</td>\n",
       "      <td>1.2749</td>\n",
       "      <td>103.8517</td>\n",
       "      <td>0.0</td>\n",
       "    </tr>\n",
       "    <tr>\n",
       "      <th>2</th>\n",
       "      <td>18910</td>\n",
       "      <td>Marina Gardens Drive</td>\n",
       "      <td>1.2796</td>\n",
       "      <td>103.8690</td>\n",
       "      <td>0.0</td>\n",
       "    </tr>\n",
       "    <tr>\n",
       "      <th>3</th>\n",
       "      <td>18915</td>\n",
       "      <td>Central Boulevard</td>\n",
       "      <td>1.2737</td>\n",
       "      <td>103.8601</td>\n",
       "      <td>0.0</td>\n",
       "    </tr>\n",
       "    <tr>\n",
       "      <th>4</th>\n",
       "      <td>18916</td>\n",
       "      <td>Central Boulevard</td>\n",
       "      <td>1.2798</td>\n",
       "      <td>103.8515</td>\n",
       "      <td>0.0</td>\n",
       "    </tr>\n",
       "    <tr>\n",
       "      <th>...</th>\n",
       "      <td>...</td>\n",
       "      <td>...</td>\n",
       "      <td>...</td>\n",
       "      <td>...</td>\n",
       "      <td>...</td>\n",
       "    </tr>\n",
       "    <tr>\n",
       "      <th>121149</th>\n",
       "      <td>886129</td>\n",
       "      <td>Upper Changi Road North</td>\n",
       "      <td>1.3523</td>\n",
       "      <td>103.9665</td>\n",
       "      <td>0.0</td>\n",
       "    </tr>\n",
       "    <tr>\n",
       "      <th>121150</th>\n",
       "      <td>887327</td>\n",
       "      <td>Kranji Loop</td>\n",
       "      <td>1.4336</td>\n",
       "      <td>103.7586</td>\n",
       "      <td>0.0</td>\n",
       "    </tr>\n",
       "    <tr>\n",
       "      <th>121151</th>\n",
       "      <td>887328</td>\n",
       "      <td>Pasir Panjang Road</td>\n",
       "      <td>1.2772</td>\n",
       "      <td>103.7958</td>\n",
       "      <td>0.0</td>\n",
       "    </tr>\n",
       "    <tr>\n",
       "      <th>121152</th>\n",
       "      <td>918104</td>\n",
       "      <td>Airport Cargo Road</td>\n",
       "      <td>1.3753</td>\n",
       "      <td>103.9967</td>\n",
       "      <td>0.0</td>\n",
       "    </tr>\n",
       "    <tr>\n",
       "      <th>121153</th>\n",
       "      <td>918146</td>\n",
       "      <td>Airport Boulevard</td>\n",
       "      <td>1.3550</td>\n",
       "      <td>103.9891</td>\n",
       "      <td>0.0</td>\n",
       "    </tr>\n",
       "  </tbody>\n",
       "</table>\n",
       "<p>121154 rows × 5 columns</p>\n",
       "</div>"
      ],
      "text/plain": [
       "        Postal Code                  Address  Latitude  Longtitude  distance\n",
       "0             18906        Straits Boulevard    1.2758    103.8496       0.0\n",
       "1             18907        Straits Boulevard    1.2749    103.8517       0.0\n",
       "2             18910     Marina Gardens Drive    1.2796    103.8690       0.0\n",
       "3             18915        Central Boulevard    1.2737    103.8601       0.0\n",
       "4             18916        Central Boulevard    1.2798    103.8515       0.0\n",
       "...             ...                      ...       ...         ...       ...\n",
       "121149       886129  Upper Changi Road North    1.3523    103.9665       0.0\n",
       "121150       887327              Kranji Loop    1.4336    103.7586       0.0\n",
       "121151       887328       Pasir Panjang Road    1.2772    103.7958       0.0\n",
       "121152       918104       Airport Cargo Road    1.3753    103.9967       0.0\n",
       "121153       918146        Airport Boulevard    1.3550    103.9891       0.0\n",
       "\n",
       "[121154 rows x 5 columns]"
      ]
     },
     "execution_count": 54,
     "metadata": {},
     "output_type": "execute_result"
    }
   ],
   "source": [
    "df"
   ]
  },
  {
   "cell_type": "code",
   "execution_count": 53,
   "metadata": {},
   "outputs": [
    {
     "data": {
      "text/plain": [
       "0.0"
      ]
     },
     "execution_count": 53,
     "metadata": {},
     "output_type": "execute_result"
    }
   ],
   "source": [
    "haversine(103.8935,1.3791,103.8935,1.3791)"
   ]
  },
  {
   "cell_type": "code",
   "execution_count": 68,
   "metadata": {},
   "outputs": [],
   "source": [
    "df['distance'] = df.apply(lambda x: round(haversine(x['Longtitude'],x['Latitude'],float(long),float(lat)),2), axis=1)"
   ]
  },
  {
   "cell_type": "code",
   "execution_count": 69,
   "metadata": {},
   "outputs": [
    {
     "data": {
      "text/html": [
       "<div>\n",
       "<style scoped>\n",
       "    .dataframe tbody tr th:only-of-type {\n",
       "        vertical-align: middle;\n",
       "    }\n",
       "\n",
       "    .dataframe tbody tr th {\n",
       "        vertical-align: top;\n",
       "    }\n",
       "\n",
       "    .dataframe thead th {\n",
       "        text-align: right;\n",
       "    }\n",
       "</style>\n",
       "<table border=\"1\" class=\"dataframe\">\n",
       "  <thead>\n",
       "    <tr style=\"text-align: right;\">\n",
       "      <th></th>\n",
       "      <th>Postal Code</th>\n",
       "      <th>Address</th>\n",
       "      <th>Latitude</th>\n",
       "      <th>Longtitude</th>\n",
       "      <th>distance</th>\n",
       "    </tr>\n",
       "  </thead>\n",
       "  <tbody>\n",
       "    <tr>\n",
       "      <th>65649</th>\n",
       "      <td>530440</td>\n",
       "      <td>Hougang Avenue 8</td>\n",
       "      <td>1.3791</td>\n",
       "      <td>103.8935</td>\n",
       "      <td>0.0</td>\n",
       "    </tr>\n",
       "  </tbody>\n",
       "</table>\n",
       "</div>"
      ],
      "text/plain": [
       "       Postal Code           Address  Latitude  Longtitude  distance\n",
       "65649       530440  Hougang Avenue 8    1.3791    103.8935       0.0"
      ]
     },
     "execution_count": 69,
     "metadata": {},
     "output_type": "execute_result"
    }
   ],
   "source": [
    "df[df['Postal Code']==530440]"
   ]
  },
  {
   "cell_type": "code",
   "execution_count": 65,
   "metadata": {},
   "outputs": [
    {
     "data": {
      "text/plain": [
       "<function __main__.haversine(lon1, lat1, lon2, lat2)>"
      ]
     },
     "execution_count": 65,
     "metadata": {},
     "output_type": "execute_result"
    }
   ],
   "source": [
    "haversine"
   ]
  },
  {
   "cell_type": "code",
   "execution_count": null,
   "metadata": {},
   "outputs": [],
   "source": []
  }
 ],
 "metadata": {
  "kernelspec": {
   "display_name": "Python 3",
   "language": "python",
   "name": "python3"
  },
  "language_info": {
   "codemirror_mode": {
    "name": "ipython",
    "version": 3
   },
   "file_extension": ".py",
   "mimetype": "text/x-python",
   "name": "python",
   "nbconvert_exporter": "python",
   "pygments_lexer": "ipython3",
   "version": "3.8.5"
  }
 },
 "nbformat": 4,
 "nbformat_minor": 4
}
